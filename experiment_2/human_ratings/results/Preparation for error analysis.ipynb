{
 "cells": [
  {
   "cell_type": "code",
   "execution_count": 1,
   "id": "d82e7966",
   "metadata": {},
   "outputs": [],
   "source": [
    "from collections import Counter\n",
    "import pandas as pd\n",
    "import numpy as np"
   ]
  },
  {
   "cell_type": "code",
   "execution_count": 2,
   "id": "0907dbe5",
   "metadata": {},
   "outputs": [],
   "source": [
    "mapping = {\"Strongly disagree\": 1, \n",
    "           \"Somewhat disagree\": 2, \n",
    "           \"Neither agree nor disagree\": 3,\n",
    "           \"Somewhat agree\": 4,\n",
    "           \"Strongly agree\": 5}\n",
    "\n",
    "# Load data:\n",
    "stimuli = pd.read_excel(\"../setup/Experiment selection.xlsx\")\n",
    "responses = pd.read_excel(\"Selected_for_analysis.xlsx\", na_filter=False)\n",
    "\n",
    "# Combine data:\n",
    "records = []\n",
    "for i, output in enumerate(stimuli['cleaned_output'].to_list()):\n",
    "    record = dict(i=i, \n",
    "                  output=output, \n",
    "                  score= np.average([mapping[val] for val in responses[str(i)] if not val == '']))\n",
    "    records.append(record)\n",
    "\n",
    "# Save data:\n",
    "merged = pd.DataFrame(records)\n",
    "merged.to_excel(\"Scored_items.xlsx\", index=False)"
   ]
  }
 ],
 "metadata": {
  "kernelspec": {
   "display_name": "Python 3 (ipykernel)",
   "language": "python",
   "name": "python3"
  },
  "language_info": {
   "codemirror_mode": {
    "name": "ipython",
    "version": 3
   },
   "file_extension": ".py",
   "mimetype": "text/x-python",
   "name": "python",
   "nbconvert_exporter": "python",
   "pygments_lexer": "ipython3",
   "version": "3.9.12"
  }
 },
 "nbformat": 4,
 "nbformat_minor": 5
}
