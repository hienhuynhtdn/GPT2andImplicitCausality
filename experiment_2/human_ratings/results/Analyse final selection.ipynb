{
 "cells": [
  {
   "cell_type": "code",
   "execution_count": 1,
   "id": "6a982510",
   "metadata": {},
   "outputs": [],
   "source": [
    "from collections import Counter\n",
    "import pandas as pd\n",
    "import warnings"
   ]
  },
  {
   "cell_type": "code",
   "execution_count": 2,
   "id": "c6beb0bb",
   "metadata": {},
   "outputs": [],
   "source": [
    "# Suppress warning from openpyxl that the workbook contains no default style:\n",
    "with warnings.catch_warnings(record=True):\n",
    "    df = pd.read_excel(\"Selected_for_analysis.xlsx\", na_filter=False)"
   ]
  },
  {
   "cell_type": "code",
   "execution_count": 3,
   "id": "606bfa1c",
   "metadata": {},
   "outputs": [],
   "source": [
    "mapping = {\"Strongly disagree\": 1, \n",
    "           \"Somewhat disagree\": 2, \n",
    "           \"Neither agree nor disagree\": 3,\n",
    "           \"Somewhat agree\": 4,\n",
    "           \"Strongly agree\": 5}\n",
    "\n",
    "def ratings_from_df(i,df):\n",
    "    key = str(i)\n",
    "    return [mapping[rating] for rating in df[key] if rating != '']\n",
    "    \n",
    "\n",
    "def get_raw_counts(df):\n",
    "    \"\"\"\n",
    "    Get number of times each rating was provided.\n",
    "    \"\"\"\n",
    "    rating_index = {str(i): ratings_from_df(i,df) for i in range(1000)}\n",
    "    counts = Counter(rating for ratings in rating_index.values() \n",
    "                            for rating in ratings)\n",
    "    return counts\n",
    "\n",
    "\n",
    "def numbers_above_i(df):\n",
    "    \"\"\"\n",
    "    Get number of times the average rating was equal to or greater than i.\n",
    "    \"\"\"\n",
    "    rating_index = {str(i): ratings_from_df(i,df) for i in range(1000)}\n",
    "    avg_ratings  = {i : sum(ratings)/len(ratings) for i, ratings in rating_index.items()}\n",
    "    above_i = {i:0 for i in range(1,6)}\n",
    "    for rating in avg_ratings.values():\n",
    "        for i in above_i:\n",
    "            if rating >= i:\n",
    "                above_i[i] += 1\n",
    "    return above_i"
   ]
  },
  {
   "cell_type": "code",
   "execution_count": 4,
   "id": "ca126ee5",
   "metadata": {},
   "outputs": [
    {
     "name": "stdout",
     "output_type": "stream",
     "text": [
      "Rating & 1 & 2 & 3 & 4 & 5 \\\\\n",
      "Raw counts & 689 & 571 & 333 & 782 & 625 \\\\\n",
      "\\% of ratings & 23 & 19 & 11 & 26 & 21 \\\\\n",
      "\\% average rating >= rating & 100 & 79 & 55 & 32 & 7 \\\\\n"
     ]
    }
   ],
   "source": [
    "raw_counts = get_raw_counts(df)\n",
    "above_i = numbers_above_i(df)\n",
    "\n",
    "table = [[\"Rating\"] + [str(i) for i in range(1,6)],\n",
    "         [r\"Raw counts\"] + [f\"{raw_counts[i]}\" for i in range(1,6)],\n",
    "         [r\"\\% of ratings\"] + [f\"{(raw_counts[i]/3000) * 100:.0f}\" for i in range(1,6)],\n",
    "         [r\"\\% average rating >= rating\"] + [f\"{(above_i[i]/10):.0f}\" for i in range(1,6)]]\n",
    "\n",
    "for row in table:\n",
    "    print(' & '.join(row), r'\\\\')"
   ]
  },
  {
   "cell_type": "code",
   "execution_count": null,
   "id": "820991e8",
   "metadata": {},
   "outputs": [],
   "source": []
  }
 ],
 "metadata": {
  "kernelspec": {
   "display_name": "Python 3 (ipykernel)",
   "language": "python",
   "name": "python3"
  },
  "language_info": {
   "codemirror_mode": {
    "name": "ipython",
    "version": 3
   },
   "file_extension": ".py",
   "mimetype": "text/x-python",
   "name": "python",
   "nbconvert_exporter": "python",
   "pygments_lexer": "ipython3",
   "version": "3.9.12"
  }
 },
 "nbformat": 4,
 "nbformat_minor": 5
}
