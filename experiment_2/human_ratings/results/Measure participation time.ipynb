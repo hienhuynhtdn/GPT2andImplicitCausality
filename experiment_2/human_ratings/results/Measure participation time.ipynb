{
 "cells": [
  {
   "cell_type": "code",
   "execution_count": 1,
   "id": "a840831f",
   "metadata": {},
   "outputs": [],
   "source": [
    "import pandas as pd\n",
    "from statistics import mean,median,stdev"
   ]
  },
  {
   "cell_type": "code",
   "execution_count": 2,
   "id": "3065604f",
   "metadata": {},
   "outputs": [
    {
     "name": "stdout",
     "output_type": "stream",
     "text": [
      "Range: 03:06-16:18\n",
      "Median: 06:18 Mean: 06:59\n",
      "Std: 02:55\n"
     ]
    }
   ],
   "source": [
    "def print_time(seconds):\n",
    "    \"Convert time to mm:ss format\"\n",
    "    mins, secs = divmod(seconds,60)\n",
    "    return f\"{str(round(mins)).zfill(2)}:{str(round(secs)).zfill(2)}\"\n",
    "\n",
    "df = pd.read_excel(\"./Selected_for_analysis.xlsx\")\n",
    "durations = df[\"Duration (in seconds)\"]\n",
    "\n",
    "print(f\"Range: {print_time(min(durations))}-{print_time(max(durations))}\")\n",
    "print(f\"Median: {print_time(median(durations))} Mean: {print_time(mean(durations))}\")\n",
    "print(f\"Std: {print_time(stdev(durations))}\")"
   ]
  },
  {
   "cell_type": "code",
   "execution_count": null,
   "id": "3aedf080",
   "metadata": {},
   "outputs": [],
   "source": []
  }
 ],
 "metadata": {
  "kernelspec": {
   "display_name": "Python 3 (ipykernel)",
   "language": "python",
   "name": "python3"
  },
  "language_info": {
   "codemirror_mode": {
    "name": "ipython",
    "version": 3
   },
   "file_extension": ".py",
   "mimetype": "text/x-python",
   "name": "python",
   "nbconvert_exporter": "python",
   "pygments_lexer": "ipython3",
   "version": "3.9.12"
  }
 },
 "nbformat": 4,
 "nbformat_minor": 5
}
