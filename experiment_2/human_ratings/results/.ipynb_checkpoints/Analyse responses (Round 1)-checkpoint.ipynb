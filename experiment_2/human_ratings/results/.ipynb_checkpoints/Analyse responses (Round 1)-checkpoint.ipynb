{
 "cells": [
  {
   "cell_type": "code",
   "execution_count": 1,
   "id": "a9605e24",
   "metadata": {},
   "outputs": [],
   "source": [
    "import pandas as pd\n",
    "from collections import defaultdict\n",
    "from itertools import combinations\n",
    "from scipy.stats import spearmanr\n",
    "import matplotlib.pyplot as plt\n",
    "import seaborn as sns\n",
    "import numpy as np"
   ]
  },
  {
   "cell_type": "markdown",
   "id": "2f98c699",
   "metadata": {},
   "source": [
    "## Define core functions"
   ]
  },
  {
   "cell_type": "code",
   "execution_count": 2,
   "id": "446d060a",
   "metadata": {},
   "outputs": [],
   "source": [
    "# Thanks to https://stackoverflow.com/a/312464\n",
    "def chunks(lst, n):\n",
    "    \"\"\"Yield successive n-sized chunks from lst.\"\"\"\n",
    "    for i in range(0, len(lst), n):\n",
    "        yield lst[i:i + n]\n",
    "\n",
    "\n",
    "def get_answers(entry):\n",
    "    \"\"\"\n",
    "    Just get the plain answers without anything else.\n",
    "    \"\"\"\n",
    "    answers = []\n",
    "    for prompt in prompts:\n",
    "        answer = entry[prompt]\n",
    "        if answer:\n",
    "            answers.append(answer)\n",
    "    return answers\n",
    "\n",
    "\n",
    "def get_answer_dict(entry):\n",
    "    \"\"\"\n",
    "    Get the answered prompts with answers.\n",
    "    \"\"\"\n",
    "    answers = dict()\n",
    "    for prompt in prompts:\n",
    "        answer = entry[prompt]\n",
    "        if answer:\n",
    "            answers[prompt] = answer\n",
    "    return answers\n",
    "\n",
    "\n",
    "likert_map = {'Strongly disagree': 0,\n",
    "              'Somewhat disagree': 1,\n",
    "              'Neither agree nor disagree': 2,\n",
    "              'Somewhat agree': 3,\n",
    "              'Strongly agree': 4}\n",
    "\n",
    "\n",
    "def map_to_numbers(values):\n",
    "    \"\"\"\n",
    "    Map list of responses to numerical values\n",
    "    \"\"\"\n",
    "    return [likert_map[v] for v in values]\n",
    "\n",
    "\n",
    "def answers_to_numbers(d):\n",
    "    \"\"\"\n",
    "    Generate list of numbers based on dict of answers.\n",
    "    \"\"\"\n",
    "    answers = [d[k] for k in sorted(d.keys())]\n",
    "    return map_to_numbers(answers)\n",
    "               \n",
    "\n",
    "def average_lists(list_of_lists):\n",
    "    \"\"\"\n",
    "    Average values for a list of lists.\n",
    "    \"\"\"\n",
    "    return [sum(pair)/len(pair) for pair in zip(*list_of_lists)]"
   ]
  },
  {
   "cell_type": "markdown",
   "id": "d84c241b",
   "metadata": {},
   "source": [
    "## Load the data\n",
    "\n",
    "Load the data and select those responses where we have obtained informed consent, and who answered all 40 questions."
   ]
  },
  {
   "cell_type": "code",
   "execution_count": 3,
   "id": "88db1a50",
   "metadata": {},
   "outputs": [
    {
     "name": "stdout",
     "output_type": "stream",
     "text": [
      "This should be 75 (our total number of participants): 75\n"
     ]
    }
   ],
   "source": [
    "import warnings\n",
    "\n",
    "# Suppress warning from openpyxl that the workbook contains no default style:\n",
    "with warnings.catch_warnings(record=True):\n",
    "    df = pd.read_excel(\"Qualtrics-Round1.xlsx\", na_filter=False)\n",
    "\n",
    "df = df[df['Status'] != \"Survey Preview\"]\n",
    "\n",
    "prompts = [label for label in df.columns if label.isdigit()]\n",
    "blocks = {' '.join(sorted(chunk)): i for i, chunk in enumerate(chunks(prompts, 40), start=1)}\n",
    "\n",
    "with_consent = df[df['Q1002']=='Yes']\n",
    "responses = with_consent.to_dict('records')\n",
    "responses = [r for r in responses if len(get_answers(r)) == 40]\n",
    "\n",
    "print(\"This should be 75 (our total number of participants):\", len(responses))"
   ]
  },
  {
   "cell_type": "markdown",
   "id": "ca0dd8b7",
   "metadata": {},
   "source": [
    "## Group participants\n",
    "\n",
    "Group participants by the questions they answered. Recall that each participant only answered 40 questions, out of 1000. In the next step we want to compare participants who answered the same questions."
   ]
  },
  {
   "cell_type": "code",
   "execution_count": 4,
   "id": "168d2226",
   "metadata": {},
   "outputs": [],
   "source": [
    "grouped = defaultdict(list)\n",
    "for response in responses:\n",
    "    answers = get_answer_dict(response)\n",
    "    key = ' '.join(sorted(answers.keys()))\n",
    "    grouped[key].append((response['PROLIFIC_PID'], answers))"
   ]
  },
  {
   "cell_type": "markdown",
   "id": "4095e13f",
   "metadata": {},
   "source": [
    "## Compare participants\n",
    "\n",
    "We use a leave-one-out strategy to compare each participant with the average scores \n",
    "of the other participants who answered the same question. \n",
    "\n",
    "For the low-scoring participants, we also print out the block of questions they were assigned to in Qualtrics.\n",
    "This enables us to recruit additional participants for specific sets of questions with questionable correlation scores. Hopefully this also gives us better estimates of the quality of each output."
   ]
  },
  {
   "cell_type": "code",
   "execution_count": 5,
   "id": "1ae83807",
   "metadata": {},
   "outputs": [
    {
     "name": "stdout",
     "output_type": "stream",
     "text": [
      "High: 0.8186733428311689 3 4 3 3 1 4 4 1 1 1 0 3 3 4 3 0 3 0 3 0 3 1 3 4 4 1 4 1 3 1 3 4 1 1 3 1 2 1 3 4\n",
      "Low: 0.28460013274411755 0 3 0 1 4 3 1 1 0 1 0 1 2 3 3 1 1 1 0 3 4 1 1 1 3 4 4 0 3 1 1 0 0 2 1 3 0 2 1 3\n",
      "High: 0.8441156610227517 4 3 4 4 0 3 3 3 1 1 3 2 1 0 1 3 1 0 1 1 3 4 1 4 4 3 4 1 3 3 3 3 2 1 1 3 3 3 1 4\n",
      "High: 0.833669776099248 3 2 4 3 0 2 4 3 0 1 3 1 0 0 0 3 1 0 2 0 2 4 3 4 4 2 4 3 4 3 1 4 2 0 0 3 3 1 1 4\n",
      "Low: 0.3262949244520725 4 3 0 0 0 0 3 0 0 3 1 3 4 0 3 4 1 3 3 1 1 4 3 4 3 3 3 4 4 4 4 4 1 1 0 4 1 1 3 3\n",
      "Low: 0.2481910954122541 4 3 1 1 4 1 3 3 3 1 1 4 2 4 4 2 2 1 4 3 0 4 4 3 2 3 3 4 4 1 2 2 3 3 3 2 2 2 2 2\n",
      "Low: 0.16871532026795574 0 2 2 1 2 2 0 0 2 1 2 1 0 1 1 4 1 1 0 4 0 2 2 2 3 1 3 2 2 1 1 1 3 2 2 1 0 2 1 3\n",
      "Low: 0.3697001795200162 4 4 0 4 0 4 4 0 0 4 4 0 0 4 0 0 0 0 4 4 0 4 4 0 4 4 4 0 4 0 4 4 0 0 4 4 0 0 0 4\n",
      "\n",
      "Low scoring blocks:\n",
      "[17, 23, 23, 5, 5]\n"
     ]
    }
   ],
   "source": [
    "scores = []\n",
    "corrs = []\n",
    "low_scorers = []\n",
    "low_score_block = []\n",
    "for group in grouped.values():\n",
    "    # Indices corresponds to the indices for each participant.\n",
    "    indices = set(range(len(group)))\n",
    "    # This for-loop looks at each participant in turn.\n",
    "    for i in range(len(group)):\n",
    "        # Select participant with index i.\n",
    "        selected_id, selected_answers = group[i]\n",
    "        block = blocks[' '.join(sorted(selected_answers.keys()))]\n",
    "        selected_values = answers_to_numbers(selected_answers)\n",
    "        \n",
    "        # Others are the complement of that:\n",
    "        others = [answers_to_numbers(group[x][1]) for x in (indices - {i})]\n",
    "        avg_others = average_lists(others)\n",
    "        \n",
    "        # Compute Spearman correlation between the selected participant and the others.\n",
    "        corr, pvalue = spearmanr(selected_values, avg_others)\n",
    "        \n",
    "        # Store the results\n",
    "        scores.append((corr, selected_id))\n",
    "        corrs.append(corr)\n",
    "        \n",
    "        # Inspect answers for low-scoring participants, using a cutoff of 0.4.\n",
    "        # Lower than 0.4 is traditionally seen as a weak correlation,\n",
    "        # though this of course depends on the context.\n",
    "        if corr < 0.4:\n",
    "            low_scorers.append(selected_id)\n",
    "            low_score_block.append(block)\n",
    "            print(\"Low:\", corr, ' '.join(map(str,selected_values)))\n",
    "        \n",
    "        # Also inspect high correlations:\n",
    "        if corr > 0.8:\n",
    "            print(\"High:\", corr, ' '.join(map(str,selected_values)))\n",
    "\n",
    "print(\"\\nLow scoring blocks:\")\n",
    "print(low_score_block)"
   ]
  },
  {
   "cell_type": "markdown",
   "id": "8b259371",
   "metadata": {},
   "source": [
    "Looking at these answers, there don't seem to be any straightliners, i.e. people who always responded with a specific answer (e.g. always 0).\n",
    "\n",
    "One low-scoring participant (the last one) just used the extremes of the scale, while others probably used the full scale."
   ]
  },
  {
   "cell_type": "markdown",
   "id": "f5384670",
   "metadata": {},
   "source": [
    "## Visualize the resulting correlations\n",
    "\n",
    "Show correlation of participants with each other."
   ]
  },
  {
   "cell_type": "code",
   "execution_count": 6,
   "id": "8c7ff937",
   "metadata": {},
   "outputs": [
    {
     "data": {
      "text/plain": [
       "Text(0, 2.85, 'Std: 0.14')"
      ]
     },
     "execution_count": 6,
     "metadata": {},
     "output_type": "execute_result"
    },
    {
     "data": {
      "image/png": "[encoded data removed]",
      "text/plain": [
       "<Figure size 360x360 with 1 Axes>"
      ]
     },
     "metadata": {
      "needs_background": "light"
     },
     "output_type": "display_data"
    }
   ],
   "source": [
    "sns.displot(corrs, kind=\"kde\", rug=True)\n",
    "plt.annotate(f\"Mean: {np.mean(corrs):.2f}\", (0,3))\n",
    "plt.annotate(f\"Std: {np.std(corrs):.2f}\", (0,2.85))"
   ]
  },
  {
   "cell_type": "code",
   "execution_count": 7,
   "id": "dc72dfac",
   "metadata": {},
   "outputs": [
    {
     "name": "stdout",
     "output_type": "stream",
     "text": [
      "Raw scores:\n",
      "['0.17', '0.25', '0.28', '0.33', '0.37', '0.40', '0.40', '0.41', '0.42', '0.43', '0.44', '0.45', '0.49', '0.49', '0.50', '0.50', '0.50', '0.52', '0.52', '0.52', '0.54', '0.54', '0.54', '0.55', '0.55', '0.56', '0.59', '0.60', '0.60', '0.60', '0.60', '0.61', '0.61', '0.61', '0.62', '0.62', '0.62', '0.63', '0.63', '0.65', '0.65', '0.65', '0.65', '0.66', '0.66', '0.66', '0.66', '0.67', '0.67', '0.67', '0.67', '0.68', '0.68', '0.68', '0.68', '0.69', '0.69', '0.69', '0.70', '0.71', '0.72', '0.72', '0.73', '0.74', '0.76', '0.76', '0.77', '0.78', '0.79', '0.79', '0.79', '0.80', '0.82', '0.83', '0.84']\n"
     ]
    }
   ],
   "source": [
    "print(\"Raw scores:\")\n",
    "print([f\"{corr:.2f}\" for corr in sorted(corrs)])"
   ]
  }
 ],
 "metadata": {
  "kernelspec": {
   "display_name": "Python 3",
   "language": "python",
   "name": "python3"
  },
  "language_info": {
   "codemirror_mode": {
    "name": "ipython",
    "version": 3
   },
   "file_extension": ".py",
   "mimetype": "text/x-python",
   "name": "python",
   "nbconvert_exporter": "python",
   "pygments_lexer": "ipython3",
   "version": "3.8.8"
  }
 },
 "nbformat": 4,
 "nbformat_minor": 5
}
