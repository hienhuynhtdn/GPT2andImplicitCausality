{
 "cells": [
  {
   "cell_type": "code",
   "execution_count": 1,
   "id": "d6c9f2c6",
   "metadata": {},
   "outputs": [],
   "source": [
    "import pandas as pd\n",
    "import random\n",
    "\n",
    "random.seed(1)\n",
    "\n",
    "df = pd.read_excel(\"./Experiment selection.xlsx\")\n",
    "records = []\n",
    "for i, record in enumerate(df.to_dict('records')):\n",
    "    record['idx'] = i\n",
    "    records.append(record)\n",
    "\n",
    "random.shuffle(records)"
   ]
  },
  {
   "cell_type": "code",
   "execution_count": 2,
   "id": "875cf807",
   "metadata": {},
   "outputs": [],
   "source": [
    "contents = [\"[[AdvancedFormat]]\"]\n",
    "\n",
    "\n",
    "base_question = \"\"\"\n",
    "[[Question:MC:SingleAnswer]]\n",
    "[[ID:{identifier}]]\n",
    "For the following sentence: <i>{sentence}</i><br/>\n",
    "A reasonable continuation would be: <i>{continuation}</i>\n",
    "\n",
    "[[Choices]]\n",
    "Strongly agree\n",
    "Somewhat agree\n",
    "Neither agree nor disagree\n",
    "Somewhat disagree\n",
    "Strongly disagree\n",
    "\"\"\"\n",
    "\n",
    "for i, record in enumerate(records):\n",
    "    if i % 40 == 0:\n",
    "        contents.append(\"[[Block]]\")\n",
    "    \n",
    "    sentence = record['sent']\n",
    "    continuation = ' '.join(record['cleaned_output'].split()[6:])\n",
    "    idx = record['idx']\n",
    "    \n",
    "    question = base_question.format(sentence=sentence, \n",
    "                                    continuation=continuation,\n",
    "                                    identifier=idx)\n",
    "    contents.append(question)\n",
    "\n",
    "\n",
    "with open(\"testquestions.txt\",'w') as f:\n",
    "    f.write('\\n'.join(contents))\n"
   ]
  }
 ],
 "metadata": {
  "kernelspec": {
   "display_name": "Python 3",
   "language": "python",
   "name": "python3"
  },
  "language_info": {
   "codemirror_mode": {
    "name": "ipython",
    "version": 3
   },
   "file_extension": ".py",
   "mimetype": "text/x-python",
   "name": "python",
   "nbconvert_exporter": "python",
   "pygments_lexer": "ipython3",
   "version": "3.8.8"
  }
 },
 "nbformat": 4,
 "nbformat_minor": 5
}
